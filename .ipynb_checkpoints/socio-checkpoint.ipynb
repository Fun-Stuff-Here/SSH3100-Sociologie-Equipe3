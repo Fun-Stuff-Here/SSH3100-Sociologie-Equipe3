{
 "cells": [
  {
   "cell_type": "markdown",
   "metadata": {},
   "source": [
    "# Socio"
   ]
  },
  {
   "cell_type": "code",
   "execution_count": 1,
   "metadata": {},
   "outputs": [],
   "source": [
    "import pandas as pd\n",
    "\n",
    "df = pd.read_csv(\"data.csv\")"
   ]
  },
  {
   "cell_type": "code",
   "execution_count": 2,
   "metadata": {
    "scrolled": false
   },
   "outputs": [
    {
     "name": "stderr",
     "output_type": "stream",
     "text": [
      "C:\\Users\\nicol\\anaconda3\\envs\\geo_env_2\\lib\\site-packages\\seaborn\\categorical.py:1296: UserWarning: 16.7% of the points cannot be placed; you may want to decrease the size of the markers or use stripplot.\n",
      "  warnings.warn(msg, UserWarning)\n"
     ]
    },
    {
     "data": {
      "image/png": "[encoded data removed]",
      "text/plain": [
       "<Figure size 432x288 with 1 Axes>"
      ]
     },
     "metadata": {
      "needs_background": "light"
     },
     "output_type": "display_data"
    }
   ],
   "source": [
    "df.drop('Rep', axis=1)\n",
    "baseLine = [6] * 6\n",
    "df = df.assign(BaseLine=baseLine)\n",
    "# reshape the d dataframe suitable for statsmodels package \n",
    "df_melt = pd.melt(df.reset_index(), id_vars=['index'], value_vars=['H11', 'H12','H21', 'H22','H31', 'H32','H41', 'H42', 'BaseLine'])\n",
    "# replace column names\n",
    "df_melt.columns = ['index', 'Hypothèses', 'Likert']\n",
    "\n",
    "# generate a boxplot to see the data distribution by treatments. Using boxplot, we can \n",
    "# easily detect the differences between different treatments\n",
    "import matplotlib.pyplot as plt\n",
    "import seaborn as sns\n",
    "from textwrap import wrap\n",
    "\n",
    "plotTitle = \"Répartition sur l'échelle de likert des réponses des répondants pour les diverses hypothèses\"\n",
    "ax = sns.boxplot(x=\"Hypothèses\", y='Likert', data=df_melt, color='#99c2a2').set(title = \"\\n\".join(wrap(plotTitle)))\n",
    "ax = sns.swarmplot(x=\"Hypothèses\", y=\"Likert\", data=df_melt, color='#7d0013')\n",
    "plt.savefig(\"BoxPlot.png\", dpi=600)\n",
    "plt.show()"
   ]
  },
  {
   "cell_type": "markdown",
   "metadata": {},
   "source": [
    "# Hypothèse statistique\n",
    "\n",
    "1. La moyenne considéré pour que l'hypotèse évalué sur l'échelle de Likert soit vérifiée est de 6.\n",
    "2. Chaque répondant sont indépendant les uns des autres dans leur réponses.\n",
    "3. L'échelle de Likert est normalement distribuée"
   ]
  },
  {
   "cell_type": "code",
   "execution_count": 3,
   "metadata": {},
   "outputs": [],
   "source": [
    "# we will use bioinfokit (v1.0.3 or later) for performing tukey HSD test\n",
    "# check documentation here https://github.com/reneshbedre/bioinfokit\n",
    "from bioinfokit.analys import stat\n",
    "# perform multiple pairwise comparison (Tukey's HSD)\n",
    "# unequal sample size data, tukey_hsd uses Tukey-Kramer test\n",
    "res = stat()\n",
    "res.tukey_hsd(df=df_melt, res_var='Likert', xfac_var='Hypothèses', anova_model='Likert ~ C(Hypothèses)')\n",
    "summary = res.tukey_summary"
   ]
  },
  {
   "cell_type": "code",
   "execution_count": 4,
   "metadata": {},
   "outputs": [
    {
     "data": {
      "text/html": [
       "<div>\n",
       "<style scoped>\n",
       "    .dataframe tbody tr th:only-of-type {\n",
       "        vertical-align: middle;\n",
       "    }\n",
       "\n",
       "    .dataframe tbody tr th {\n",
       "        vertical-align: top;\n",
       "    }\n",
       "\n",
       "    .dataframe thead th {\n",
       "        text-align: right;\n",
       "    }\n",
       "</style>\n",
       "<table border=\"1\" class=\"dataframe\">\n",
       "  <thead>\n",
       "    <tr style=\"text-align: right;\">\n",
       "      <th></th>\n",
       "      <th>group1</th>\n",
       "      <th>group2</th>\n",
       "      <th>Diff</th>\n",
       "      <th>Lower</th>\n",
       "      <th>Upper</th>\n",
       "      <th>q-value</th>\n",
       "      <th>p-value</th>\n",
       "    </tr>\n",
       "  </thead>\n",
       "  <tbody>\n",
       "    <tr>\n",
       "      <th>5</th>\n",
       "      <td>H32</td>\n",
       "      <td>BaseLine</td>\n",
       "      <td>3.333333</td>\n",
       "      <td>-0.084678</td>\n",
       "      <td>6.751345</td>\n",
       "      <td>4.492146</td>\n",
       "      <td>0.061131</td>\n",
       "    </tr>\n",
       "    <tr>\n",
       "      <th>0</th>\n",
       "      <td>H11</td>\n",
       "      <td>BaseLine</td>\n",
       "      <td>3.166667</td>\n",
       "      <td>-0.251345</td>\n",
       "      <td>6.584678</td>\n",
       "      <td>4.267538</td>\n",
       "      <td>0.088719</td>\n",
       "    </tr>\n",
       "    <tr>\n",
       "      <th>2</th>\n",
       "      <td>H21</td>\n",
       "      <td>BaseLine</td>\n",
       "      <td>2.333333</td>\n",
       "      <td>-1.084678</td>\n",
       "      <td>5.751345</td>\n",
       "      <td>3.144502</td>\n",
       "      <td>0.411403</td>\n",
       "    </tr>\n",
       "    <tr>\n",
       "      <th>6</th>\n",
       "      <td>H41</td>\n",
       "      <td>BaseLine</td>\n",
       "      <td>1.500000</td>\n",
       "      <td>-1.918012</td>\n",
       "      <td>4.918012</td>\n",
       "      <td>2.021466</td>\n",
       "      <td>0.873101</td>\n",
       "    </tr>\n",
       "    <tr>\n",
       "      <th>1</th>\n",
       "      <td>H12</td>\n",
       "      <td>BaseLine</td>\n",
       "      <td>1.000000</td>\n",
       "      <td>-2.418012</td>\n",
       "      <td>4.418012</td>\n",
       "      <td>1.347644</td>\n",
       "      <td>0.900000</td>\n",
       "    </tr>\n",
       "    <tr>\n",
       "      <th>3</th>\n",
       "      <td>H22</td>\n",
       "      <td>BaseLine</td>\n",
       "      <td>0.166667</td>\n",
       "      <td>-3.251345</td>\n",
       "      <td>3.584678</td>\n",
       "      <td>0.224607</td>\n",
       "      <td>0.900000</td>\n",
       "    </tr>\n",
       "    <tr>\n",
       "      <th>4</th>\n",
       "      <td>H31</td>\n",
       "      <td>BaseLine</td>\n",
       "      <td>0.500000</td>\n",
       "      <td>-2.918012</td>\n",
       "      <td>3.918012</td>\n",
       "      <td>0.673822</td>\n",
       "      <td>0.900000</td>\n",
       "    </tr>\n",
       "    <tr>\n",
       "      <th>7</th>\n",
       "      <td>H42</td>\n",
       "      <td>BaseLine</td>\n",
       "      <td>0.666667</td>\n",
       "      <td>-2.751345</td>\n",
       "      <td>4.084678</td>\n",
       "      <td>0.898429</td>\n",
       "      <td>0.900000</td>\n",
       "    </tr>\n",
       "  </tbody>\n",
       "</table>\n",
       "</div>"
      ],
      "text/plain": [
       "  group1    group2      Diff     Lower     Upper   q-value   p-value\n",
       "5    H32  BaseLine  3.333333 -0.084678  6.751345  4.492146  0.061131\n",
       "0    H11  BaseLine  3.166667 -0.251345  6.584678  4.267538  0.088719\n",
       "2    H21  BaseLine  2.333333 -1.084678  5.751345  3.144502  0.411403\n",
       "6    H41  BaseLine  1.500000 -1.918012  4.918012  2.021466  0.873101\n",
       "1    H12  BaseLine  1.000000 -2.418012  4.418012  1.347644  0.900000\n",
       "3    H22  BaseLine  0.166667 -3.251345  3.584678  0.224607  0.900000\n",
       "4    H31  BaseLine  0.500000 -2.918012  3.918012  0.673822  0.900000\n",
       "7    H42  BaseLine  0.666667 -2.751345  4.084678  0.898429  0.900000"
      ]
     },
     "execution_count": 4,
     "metadata": {},
     "output_type": "execute_result"
    }
   ],
   "source": [
    "cleanSummary = summary[summary[\"group2\"] == 'BaseLine'].reset_index().drop('index', axis=1).sort_values(by=['p-value'])\n",
    "cleanSummary"
   ]
  },
  {
   "cell_type": "markdown",
   "metadata": {},
   "source": [
    "Pour une confiance à 90%: si la valeur p est plus petite que 0.1, alors, on peut conclure que il y a une différence significative entre l'hyptohèse et la ligne de base. En d'autres mots, l'hypothèse est vérifier si la valeur p est plus grande que 0.1."
   ]
  },
  {
   "cell_type": "code",
   "execution_count": 5,
   "metadata": {},
   "outputs": [
    {
     "data": {
      "image/png": "[encoded data removed]",
      "text/plain": [
       "<Figure size 432x288 with 1 Axes>"
      ]
     },
     "metadata": {
      "needs_background": "light"
     },
     "output_type": "display_data"
    }
   ],
   "source": [
    "import matplotlib.pyplot as plt\n",
    "import seaborn as sns\n",
    "from textwrap import wrap\n",
    "\n",
    "df_mean = df_melt.groupby(\"Hypothèses\", as_index = False).mean().sort_values(by=['Likert']).drop('index', axis=1)\n",
    "\n",
    "plotTitle = \"Répartition des moyennes de l'échelle de Likert des réponses des répondants pour les diverses hypothèses\"\n",
    "ax = sns.barplot(x=\"Hypothèses\", y='Likert', data=df_mean, capsize=.2).set(title = \"\\n\".join(wrap(plotTitle)))\n",
    "plt.savefig(\"MeanPlot.png\", dpi=600)\n",
    "plt.show()"
   ]
  }
 ],
 "metadata": {
  "kernelspec": {
   "display_name": "Python 3",
   "language": "python",
   "name": "python3"
  },
  "language_info": {
   "codemirror_mode": {
    "name": "ipython",
    "version": 3
   },
   "file_extension": ".py",
   "mimetype": "text/x-python",
   "name": "python",
   "nbconvert_exporter": "python",
   "pygments_lexer": "ipython3",
   "version": "3.9.0"
  }
 },
 "nbformat": 4,
 "nbformat_minor": 4
}
