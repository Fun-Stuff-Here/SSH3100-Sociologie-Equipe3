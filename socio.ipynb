{
 "cells": [
  {
   "cell_type": "markdown",
   "metadata": {},
   "source": [
    "# Socio"
   ]
  },
  {
   "cell_type": "code",
   "execution_count": 1,
   "metadata": {},
   "outputs": [],
   "source": [
    "import pandas as pd\n",
    "\n",
    "df = pd.read_csv(\"data.csv\")"
   ]
  },
  {
   "cell_type": "code",
   "execution_count": 2,
   "metadata": {
    "scrolled": false
   },
   "outputs": [
    {
     "name": "stderr",
     "output_type": "stream",
     "text": [
      "C:\\Users\\nicol\\anaconda3\\envs\\geo_env_2\\lib\\site-packages\\seaborn\\categorical.py:1296: UserWarning: 16.7% of the points cannot be placed; you may want to decrease the size of the markers or use stripplot.\n",
      "  warnings.warn(msg, UserWarning)\n"
     ]
    },
    {
     "data": {
      "image/png": "[encoded data removed]",
      "text/plain": [
       "<Figure size 432x288 with 1 Axes>"
      ]
     },
     "metadata": {
      "needs_background": "light"
     },
     "output_type": "display_data"
    }
   ],
   "source": [
    "df.drop('Rep', axis=1)\n",
    "baseLineVerif = [6] * 6\n",
    "baseLineReject = [2] * 6\n",
    "df = df.assign(BaseLineVerif=baseLineVerif)\n",
    "df = df.assign(BaseLineReject=baseLineReject)\n",
    "# reshape the d dataframe suitable for statsmodels package \n",
    "df_melt = pd.melt(df.reset_index(), id_vars=['index'], value_vars=['H11', 'H12','H21', 'H22','H31', 'H32','H41', 'H42', 'BaseLineVerif', 'BaseLineReject'])\n",
    "# replace column names\n",
    "df_melt.columns = ['index', 'Hypothèses', 'Likert']\n",
    "\n",
    "# generate a boxplot to see the data distribution by treatments. Using boxplot, we can \n",
    "# easily detect the differences between different treatments\n",
    "import matplotlib.pyplot as plt\n",
    "import seaborn as sns\n",
    "from textwrap import wrap\n",
    "\n",
    "plotTitle = \"Répartition sur l'échelle de likert des réponses des répondants pour les diverses hypothèses\"\n",
    "ax = sns.boxplot(x=\"Hypothèses\", y='Likert', data=df_melt, color='#99c2a2').set(title = \"\\n\".join(wrap(plotTitle)))\n",
    "ax = sns.swarmplot(x=\"Hypothèses\", y=\"Likert\", data=df_melt, color='#7d0013')\n",
    "plt.savefig(\"BoxPlot.png\", dpi=600)\n",
    "plt.show()"
   ]
  },
  {
   "cell_type": "markdown",
   "metadata": {},
   "source": [
    "# Hypothèse statistique\n",
    "\n",
    "1. La moyenne considéré pour que l'hypotèse évalué sur l'échelle de Likert soit vérifiée est de 6.\n",
    "2. Chaque répondant sont indépendant les uns des autres dans leur réponses.\n",
    "3. L'échelle de Likert est normalement distribuée"
   ]
  },
  {
   "cell_type": "code",
   "execution_count": 3,
   "metadata": {},
   "outputs": [],
   "source": [
    "# we will use bioinfokit (v1.0.3 or later) for performing tukey HSD test\n",
    "# check documentation here https://github.com/reneshbedre/bioinfokit\n",
    "from bioinfokit.analys import stat\n",
    "# perform multiple pairwise comparison (Tukey's HSD)\n",
    "# unequal sample size data, tukey_hsd uses Tukey-Kramer test\n",
    "res = stat()\n",
    "res.tukey_hsd(df=df_melt, res_var='Likert', xfac_var='Hypothèses', anova_model='Likert ~ C(Hypothèses)')\n",
    "summary = res.tukey_summary"
   ]
  },
  {
   "cell_type": "code",
   "execution_count": 4,
   "metadata": {},
   "outputs": [],
   "source": [
    "cleanSummaryVerif = summary[summary[\"group2\"] == 'BaseLineVerif'].reset_index().drop('index', axis=1).sort_values(by=['p-value'])\n",
    "cleanSummaryReject = summary[summary[\"group2\"] == 'BaseLineReject'].reset_index().drop('index', axis=1).sort_values(by=['p-value'])"
   ]
  },
  {
   "cell_type": "code",
   "execution_count": 5,
   "metadata": {},
   "outputs": [
    {
     "data": {
      "text/html": [
       "<div>\n",
       "<style scoped>\n",
       "    .dataframe tbody tr th:only-of-type {\n",
       "        vertical-align: middle;\n",
       "    }\n",
       "\n",
       "    .dataframe tbody tr th {\n",
       "        vertical-align: top;\n",
       "    }\n",
       "\n",
       "    .dataframe thead th {\n",
       "        text-align: right;\n",
       "    }\n",
       "</style>\n",
       "<table border=\"1\" class=\"dataframe\">\n",
       "  <thead>\n",
       "    <tr style=\"text-align: right;\">\n",
       "      <th></th>\n",
       "      <th>group1</th>\n",
       "      <th>group2</th>\n",
       "      <th>Diff</th>\n",
       "      <th>Lower</th>\n",
       "      <th>Upper</th>\n",
       "      <th>q-value</th>\n",
       "      <th>p-value</th>\n",
       "    </tr>\n",
       "  </thead>\n",
       "  <tbody>\n",
       "    <tr>\n",
       "      <th>5</th>\n",
       "      <td>H32</td>\n",
       "      <td>BaseLineVerif</td>\n",
       "      <td>3.333333</td>\n",
       "      <td>0.037870</td>\n",
       "      <td>6.628796</td>\n",
       "      <td>4.735137</td>\n",
       "      <td>0.045381</td>\n",
       "    </tr>\n",
       "    <tr>\n",
       "      <th>0</th>\n",
       "      <td>H11</td>\n",
       "      <td>BaseLineVerif</td>\n",
       "      <td>3.166667</td>\n",
       "      <td>-0.128796</td>\n",
       "      <td>6.462130</td>\n",
       "      <td>4.498380</td>\n",
       "      <td>0.069357</td>\n",
       "    </tr>\n",
       "    <tr>\n",
       "      <th>2</th>\n",
       "      <td>H21</td>\n",
       "      <td>BaseLineVerif</td>\n",
       "      <td>2.333333</td>\n",
       "      <td>-0.962130</td>\n",
       "      <td>5.628796</td>\n",
       "      <td>3.314596</td>\n",
       "      <td>0.382556</td>\n",
       "    </tr>\n",
       "    <tr>\n",
       "      <th>6</th>\n",
       "      <td>H41</td>\n",
       "      <td>BaseLineVerif</td>\n",
       "      <td>1.500000</td>\n",
       "      <td>-1.795463</td>\n",
       "      <td>4.795463</td>\n",
       "      <td>2.130812</td>\n",
       "      <td>0.877497</td>\n",
       "    </tr>\n",
       "    <tr>\n",
       "      <th>1</th>\n",
       "      <td>H12</td>\n",
       "      <td>BaseLineVerif</td>\n",
       "      <td>1.000000</td>\n",
       "      <td>-2.295463</td>\n",
       "      <td>4.295463</td>\n",
       "      <td>1.420541</td>\n",
       "      <td>0.900000</td>\n",
       "    </tr>\n",
       "    <tr>\n",
       "      <th>3</th>\n",
       "      <td>H22</td>\n",
       "      <td>BaseLineVerif</td>\n",
       "      <td>0.166667</td>\n",
       "      <td>-3.128796</td>\n",
       "      <td>3.462130</td>\n",
       "      <td>0.236757</td>\n",
       "      <td>0.900000</td>\n",
       "    </tr>\n",
       "    <tr>\n",
       "      <th>4</th>\n",
       "      <td>H31</td>\n",
       "      <td>BaseLineVerif</td>\n",
       "      <td>0.500000</td>\n",
       "      <td>-2.795463</td>\n",
       "      <td>3.795463</td>\n",
       "      <td>0.710271</td>\n",
       "      <td>0.900000</td>\n",
       "    </tr>\n",
       "    <tr>\n",
       "      <th>7</th>\n",
       "      <td>H42</td>\n",
       "      <td>BaseLineVerif</td>\n",
       "      <td>0.666667</td>\n",
       "      <td>-2.628796</td>\n",
       "      <td>3.962130</td>\n",
       "      <td>0.947027</td>\n",
       "      <td>0.900000</td>\n",
       "    </tr>\n",
       "  </tbody>\n",
       "</table>\n",
       "</div>"
      ],
      "text/plain": [
       "  group1         group2      Diff     Lower     Upper   q-value   p-value\n",
       "5    H32  BaseLineVerif  3.333333  0.037870  6.628796  4.735137  0.045381\n",
       "0    H11  BaseLineVerif  3.166667 -0.128796  6.462130  4.498380  0.069357\n",
       "2    H21  BaseLineVerif  2.333333 -0.962130  5.628796  3.314596  0.382556\n",
       "6    H41  BaseLineVerif  1.500000 -1.795463  4.795463  2.130812  0.877497\n",
       "1    H12  BaseLineVerif  1.000000 -2.295463  4.295463  1.420541  0.900000\n",
       "3    H22  BaseLineVerif  0.166667 -3.128796  3.462130  0.236757  0.900000\n",
       "4    H31  BaseLineVerif  0.500000 -2.795463  3.795463  0.710271  0.900000\n",
       "7    H42  BaseLineVerif  0.666667 -2.628796  3.962130  0.947027  0.900000"
      ]
     },
     "execution_count": 5,
     "metadata": {},
     "output_type": "execute_result"
    }
   ],
   "source": [
    "cleanSummaryVerif"
   ]
  },
  {
   "cell_type": "code",
   "execution_count": 6,
   "metadata": {},
   "outputs": [
    {
     "data": {
      "text/html": [
       "<div>\n",
       "<style scoped>\n",
       "    .dataframe tbody tr th:only-of-type {\n",
       "        vertical-align: middle;\n",
       "    }\n",
       "\n",
       "    .dataframe tbody tr th {\n",
       "        vertical-align: top;\n",
       "    }\n",
       "\n",
       "    .dataframe thead th {\n",
       "        text-align: right;\n",
       "    }\n",
       "</style>\n",
       "<table border=\"1\" class=\"dataframe\">\n",
       "  <thead>\n",
       "    <tr style=\"text-align: right;\">\n",
       "      <th></th>\n",
       "      <th>group1</th>\n",
       "      <th>group2</th>\n",
       "      <th>Diff</th>\n",
       "      <th>Lower</th>\n",
       "      <th>Upper</th>\n",
       "      <th>q-value</th>\n",
       "      <th>p-value</th>\n",
       "    </tr>\n",
       "  </thead>\n",
       "  <tbody>\n",
       "    <tr>\n",
       "      <th>7</th>\n",
       "      <td>H42</td>\n",
       "      <td>BaseLineReject</td>\n",
       "      <td>4.666667</td>\n",
       "      <td>1.371204</td>\n",
       "      <td>7.962130</td>\n",
       "      <td>6.629192</td>\n",
       "      <td>0.001000</td>\n",
       "    </tr>\n",
       "    <tr>\n",
       "      <th>3</th>\n",
       "      <td>H22</td>\n",
       "      <td>BaseLineReject</td>\n",
       "      <td>4.166667</td>\n",
       "      <td>0.871204</td>\n",
       "      <td>7.462130</td>\n",
       "      <td>5.918922</td>\n",
       "      <td>0.004157</td>\n",
       "    </tr>\n",
       "    <tr>\n",
       "      <th>8</th>\n",
       "      <td>BaseLineVerif</td>\n",
       "      <td>BaseLineReject</td>\n",
       "      <td>4.000000</td>\n",
       "      <td>0.704537</td>\n",
       "      <td>7.295463</td>\n",
       "      <td>5.682165</td>\n",
       "      <td>0.006917</td>\n",
       "    </tr>\n",
       "    <tr>\n",
       "      <th>4</th>\n",
       "      <td>H31</td>\n",
       "      <td>BaseLineReject</td>\n",
       "      <td>3.500000</td>\n",
       "      <td>0.204537</td>\n",
       "      <td>6.795463</td>\n",
       "      <td>4.971894</td>\n",
       "      <td>0.029136</td>\n",
       "    </tr>\n",
       "    <tr>\n",
       "      <th>1</th>\n",
       "      <td>H12</td>\n",
       "      <td>BaseLineReject</td>\n",
       "      <td>3.000000</td>\n",
       "      <td>-0.295463</td>\n",
       "      <td>6.295463</td>\n",
       "      <td>4.261624</td>\n",
       "      <td>0.102944</td>\n",
       "    </tr>\n",
       "    <tr>\n",
       "      <th>6</th>\n",
       "      <td>H41</td>\n",
       "      <td>BaseLineReject</td>\n",
       "      <td>2.500000</td>\n",
       "      <td>-0.795463</td>\n",
       "      <td>5.795463</td>\n",
       "      <td>3.551353</td>\n",
       "      <td>0.287972</td>\n",
       "    </tr>\n",
       "    <tr>\n",
       "      <th>2</th>\n",
       "      <td>H21</td>\n",
       "      <td>BaseLineReject</td>\n",
       "      <td>1.666667</td>\n",
       "      <td>-1.628796</td>\n",
       "      <td>4.962130</td>\n",
       "      <td>2.367569</td>\n",
       "      <td>0.779886</td>\n",
       "    </tr>\n",
       "    <tr>\n",
       "      <th>0</th>\n",
       "      <td>H11</td>\n",
       "      <td>BaseLineReject</td>\n",
       "      <td>0.833333</td>\n",
       "      <td>-2.462130</td>\n",
       "      <td>4.128796</td>\n",
       "      <td>1.183784</td>\n",
       "      <td>0.900000</td>\n",
       "    </tr>\n",
       "    <tr>\n",
       "      <th>5</th>\n",
       "      <td>H32</td>\n",
       "      <td>BaseLineReject</td>\n",
       "      <td>0.666667</td>\n",
       "      <td>-2.628796</td>\n",
       "      <td>3.962130</td>\n",
       "      <td>0.947027</td>\n",
       "      <td>0.900000</td>\n",
       "    </tr>\n",
       "  </tbody>\n",
       "</table>\n",
       "</div>"
      ],
      "text/plain": [
       "          group1          group2      Diff     Lower     Upper   q-value  \\\n",
       "7            H42  BaseLineReject  4.666667  1.371204  7.962130  6.629192   \n",
       "3            H22  BaseLineReject  4.166667  0.871204  7.462130  5.918922   \n",
       "8  BaseLineVerif  BaseLineReject  4.000000  0.704537  7.295463  5.682165   \n",
       "4            H31  BaseLineReject  3.500000  0.204537  6.795463  4.971894   \n",
       "1            H12  BaseLineReject  3.000000 -0.295463  6.295463  4.261624   \n",
       "6            H41  BaseLineReject  2.500000 -0.795463  5.795463  3.551353   \n",
       "2            H21  BaseLineReject  1.666667 -1.628796  4.962130  2.367569   \n",
       "0            H11  BaseLineReject  0.833333 -2.462130  4.128796  1.183784   \n",
       "5            H32  BaseLineReject  0.666667 -2.628796  3.962130  0.947027   \n",
       "\n",
       "    p-value  \n",
       "7  0.001000  \n",
       "3  0.004157  \n",
       "8  0.006917  \n",
       "4  0.029136  \n",
       "1  0.102944  \n",
       "6  0.287972  \n",
       "2  0.779886  \n",
       "0  0.900000  \n",
       "5  0.900000  "
      ]
     },
     "execution_count": 6,
     "metadata": {},
     "output_type": "execute_result"
    }
   ],
   "source": [
    "cleanSummaryReject"
   ]
  },
  {
   "cell_type": "markdown",
   "metadata": {},
   "source": [
    "Pour une confiance à 90%: si la valeur p est plus petite que 0.1, alors, on peut conclure que il y a une différence significative entre l'hyptohèse et la ligne de base. En d'autres mots, l'hypothèse est vérifier si la valeur p est plus grande que 0.1."
   ]
  },
  {
   "cell_type": "code",
   "execution_count": 7,
   "metadata": {},
   "outputs": [
    {
     "data": {
      "image/png": "[encoded data removed]",
      "text/plain": [
       "<Figure size 432x288 with 1 Axes>"
      ]
     },
     "metadata": {
      "needs_background": "light"
     },
     "output_type": "display_data"
    }
   ],
   "source": [
    "import matplotlib.pyplot as plt\n",
    "import seaborn as sns\n",
    "from textwrap import wrap\n",
    "\n",
    "df_mean = df_melt.groupby(\"Hypothèses\", as_index = False).mean().sort_values(by=['Likert']).drop('index', axis=1)\n",
    "\n",
    "plotTitle = \"Répartition des moyennes de l'échelle de Likert des réponses des répondants pour les diverses hypothèses\"\n",
    "ax = sns.barplot(x=\"Hypothèses\", y='Likert', data=df_mean, capsize=.2).set(title = \"\\n\".join(wrap(plotTitle)))\n",
    "plt.savefig(\"MeanPlot.png\", dpi=600)\n",
    "plt.show()"
   ]
  }
 ],
 "metadata": {
  "kernelspec": {
   "display_name": "Python 3",
   "language": "python",
   "name": "python3"
  },
  "language_info": {
   "codemirror_mode": {
    "name": "ipython",
    "version": 3
   },
   "file_extension": ".py",
   "mimetype": "text/x-python",
   "name": "python",
   "nbconvert_exporter": "python",
   "pygments_lexer": "ipython3",
   "version": "3.9.0"
  }
 },
 "nbformat": 4,
 "nbformat_minor": 4
}
